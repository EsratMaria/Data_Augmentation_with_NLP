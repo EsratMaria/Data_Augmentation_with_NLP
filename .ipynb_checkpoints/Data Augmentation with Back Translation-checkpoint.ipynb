{
 "cells": [
  {
   "cell_type": "code",
   "execution_count": 1,
   "metadata": {},
   "outputs": [],
   "source": [
    "import warnings   \n",
    "warnings.filterwarnings('ignore')   "
   ]
  },
  {
   "cell_type": "code",
   "execution_count": 2,
   "metadata": {},
   "outputs": [],
   "source": [
    "from transformers import MarianMTModel, MarianTokenizer"
   ]
  },
  {
   "cell_type": "markdown",
   "metadata": {},
   "source": [
    "# Back Translation \n",
    "\n",
    "In this process we take a text written in English and translate it to for example: French and then translate it back to English.\n",
    "\n",
    "As it can be seen in the picture below, it gives a bit of diversity using this process\n",
    "\n",
    "![](https://amitness.com/images/back-translation-marianmt.png)\n"
   ]
  },
  {
   "cell_type": "markdown",
   "metadata": {},
   "source": [
    "# French Model"
   ]
  },
  {
   "cell_type": "code",
   "execution_count": 3,
   "metadata": {},
   "outputs": [],
   "source": [
    "fr_model_name = 'Helsinki-NLP/opus-mt-en-fr'\n",
    "fr_tokenizer = MarianTokenizer.from_pretrained(fr_model_name)\n",
    "fr_model = MarianMTModel.from_pretrained(fr_model_name)"
   ]
  },
  {
   "cell_type": "markdown",
   "metadata": {},
   "source": [
    "# English Model"
   ]
  },
  {
   "cell_type": "code",
   "execution_count": 4,
   "metadata": {},
   "outputs": [],
   "source": [
    "en_model_name = 'Helsinki-NLP/opus-mt-fr-en'\n",
    "en_tokenizer = MarianTokenizer.from_pretrained(en_model_name)\n",
    "en_model = MarianMTModel.from_pretrained(en_model_name)"
   ]
  },
  {
   "cell_type": "code",
   "execution_count": 23,
   "metadata": {},
   "outputs": [],
   "source": [
    "def translate(texts, model, tokenizer, language=\"fr\"):\n",
    "    # Prepare the text data into appropriate format for the model\n",
    "    template = lambda text: f\"{text}\" if language == \"en\" else f\">>{language}<< {text}\"\n",
    "    #print(template)\n",
    "    src_texts = [template(text) for text in texts]\n",
    "    #print(src_texts)\n",
    "\n",
    "    \n",
    "    # Generate translation using model\n",
    "    translated = model.generate(**tokenizer(src_texts, return_tensors=\"pt\", padding=True))\n",
    "\n",
    "    # Convert the generated tokens indices back into text\n",
    "    translated_texts = tokenizer.batch_decode(translated, skip_special_tokens=True)\n",
    "    \n",
    "    return translated_texts\n"
   ]
  },
  {
   "cell_type": "code",
   "execution_count": 24,
   "metadata": {},
   "outputs": [],
   "source": [
    "def back_translate(texts, source_lang=\"en\", target_lang=\"fr\"):\n",
    "    # Translate from source to target language (fr)\n",
    "    fr_texts = translate(texts, fr_model, fr_tokenizer, \n",
    "                         language=target_lang)\n",
    "\n",
    "    # Translate from target language back to source language (en)\n",
    "    back_translated_texts = translate(fr_texts, en_model, en_tokenizer, \n",
    "                                      language=source_lang)\n",
    "    \n",
    "    return fr_texts, back_translated_texts\n"
   ]
  },
  {
   "cell_type": "code",
   "execution_count": 25,
   "metadata": {},
   "outputs": [
    {
     "name": "stdout",
     "output_type": "stream",
     "text": [
      "([\"C'est trop cool.\", 'Je détestais la nourriture.', 'Ils ont été très utiles.'], [\"That's so cool.\", 'I hated the food.', 'They were very helpful.'])\n"
     ]
    }
   ],
   "source": [
    "en_texts = ['This is so cool', 'I hated the food', 'They were very helpful']\n",
    "aug_texts = back_translate(en_texts, source_lang=\"en\", target_lang=\"fr\")\n",
    "\n",
    "print(aug_texts)\n"
   ]
  },
  {
   "cell_type": "code",
   "execution_count": null,
   "metadata": {},
   "outputs": [],
   "source": []
  }
 ],
 "metadata": {
  "kernelspec": {
   "display_name": "chat",
   "language": "python",
   "name": "chat"
  },
  "language_info": {
   "codemirror_mode": {
    "name": "ipython",
    "version": 3
   },
   "file_extension": ".py",
   "mimetype": "text/x-python",
   "name": "python",
   "nbconvert_exporter": "python",
   "pygments_lexer": "ipython3",
   "version": "3.8.8"
  }
 },
 "nbformat": 4,
 "nbformat_minor": 4
}
